{
  "nbformat": 4,
  "nbformat_minor": 0,
  "metadata": {
    "colab": {
      "provenance": []
    },
    "kernelspec": {
      "name": "python3",
      "display_name": "Python 3"
    },
    "language_info": {
      "name": "python"
    }
  },
  "cells": [
    {
      "cell_type": "code",
      "execution_count": null,
      "metadata": {
        "id": "5TU5RFjhZtBR"
      },
      "outputs": [],
      "source": [
        "import numpy as np\n",
        "import matplotlib.pyplot as plt\n",
        "from scipy import integrate"
      ]
    },
    {
      "cell_type": "code",
      "source": [
        "N = 16\n",
        "h = 1/(N+1)\n",
        "\n",
        "nodes = np.linspace(0, 1, N+2)\n",
        "nodes"
      ],
      "metadata": {
        "colab": {
          "base_uri": "https://localhost:8080/"
        },
        "id": "25UWht0yyaLl",
        "outputId": "d1d7bcfe-9023-4e0b-a511-f400b1b7df20"
      },
      "execution_count": null,
      "outputs": [
        {
          "output_type": "execute_result",
          "data": {
            "text/plain": [
              "array([0.        , 0.05882353, 0.11764706, 0.17647059, 0.23529412,\n",
              "       0.29411765, 0.35294118, 0.41176471, 0.47058824, 0.52941176,\n",
              "       0.58823529, 0.64705882, 0.70588235, 0.76470588, 0.82352941,\n",
              "       0.88235294, 0.94117647, 1.        ])"
            ]
          },
          "metadata": {},
          "execution_count": 173
        }
      ]
    },
    {
      "cell_type": "code",
      "source": [
        "def phi(i, x):\n",
        "    \"Linear piecewise affine function finite element basis\"\n",
        "    try:\n",
        "        if not isinstance(i, int):\n",
        "            raise TypeError(f\"Variable 'i' must be an integer, got {i}\")\n",
        "        if not (0 <= i <= N+1):\n",
        "            raise ValueError(f\"Variable 'i' must be an integer between 0 and N+1, got {i}\")\n",
        "\n",
        "        if i == 0:\n",
        "            if nodes[0] <= x <= nodes[1]:\n",
        "                return 1 - (x-nodes[i])/h\n",
        "            else:\n",
        "                return 0\n",
        "        if i == N+1:\n",
        "            if nodes[-2] <= x <= nodes[-1]:\n",
        "                return 1 + (x-nodes[i])/h\n",
        "            else:\n",
        "                return 0\n",
        "        if 0 < i < N+1:\n",
        "            if nodes[i-1] <= x <= nodes[i]:\n",
        "                return 1 + (x-nodes[i])/h\n",
        "            elif nodes[i] < x <= nodes[i+1]:\n",
        "                return 1 - (x-nodes[i])/h\n",
        "            else:\n",
        "                return 0\n",
        "\n",
        "    except Exception as err:\n",
        "        print(f\"Error: {err}\")"
      ],
      "metadata": {
        "id": "wEPVGAAMZzHW"
      },
      "execution_count": null,
      "outputs": []
    },
    {
      "cell_type": "code",
      "source": [
        "def deriv_phi(i, x):\n",
        "    \"Linear piecewise affine function finite element basis\"\n",
        "    try:\n",
        "        if not isinstance(i, int):\n",
        "            raise TypeError(f\"Variable 'i' must be an integer, got {i}\")\n",
        "        if not (0 <= i <= N+1):\n",
        "            raise ValueError(f\"Variable 'i' must be an integer between 0 and N+1, got {i}\")\n",
        "\n",
        "        if i == 0:\n",
        "            if nodes[0] <= x <= nodes[1]:\n",
        "                return -1/h\n",
        "            else:\n",
        "                return 0\n",
        "        if i == N+1:\n",
        "            if nodes[-2] <= x <= nodes[-1]:\n",
        "                return 1/h\n",
        "            else:\n",
        "                return 0\n",
        "        if 0 < i < N+1:\n",
        "            if nodes[i-1] <= x <= nodes[i]:\n",
        "                return 1/h\n",
        "            elif nodes[i] < x <= nodes[i+1]:\n",
        "                return -1/h\n",
        "            else:\n",
        "                return 0\n",
        "\n",
        "    except Exception as err:\n",
        "        print(f\"Error: {err}\")"
      ],
      "metadata": {
        "id": "b3yILR0qCW-X"
      },
      "execution_count": null,
      "outputs": []
    },
    {
      "cell_type": "code",
      "source": [
        "plt.plot(nodes, [phi(N+1, x) for x in nodes])"
      ],
      "metadata": {
        "colab": {
          "base_uri": "https://localhost:8080/",
          "height": 447
        },
        "id": "IwfjSpd14EmA",
        "outputId": "97620ad7-d01d-49f9-8c24-e34122e98702"
      },
      "execution_count": null,
      "outputs": [
        {
          "output_type": "execute_result",
          "data": {
            "text/plain": [
              "[<matplotlib.lines.Line2D at 0x78cdf41b8ca0>]"
            ]
          },
          "metadata": {},
          "execution_count": 176
        },
        {
          "output_type": "display_data",
          "data": {
            "text/plain": [
              "<Figure size 640x480 with 1 Axes>"
            ],
            "image/png": "[encoded data removed]"
          },
          "metadata": {}
        }
      ]
    },
    {
      "cell_type": "code",
      "source": [
        "A = np.zeros((N+1, N+1))\n",
        "\n",
        "def bilinear_form(u,v,du,dv):\n",
        "    return u*v + du*dv\n",
        "\n",
        "for i in range(1,N+2):\n",
        "    integral_value = integrate.quad(lambda x: bilinear_form(phi(i,x),phi(i,x),deriv_phi(i,x),deriv_phi(i,x)), 0, 1)\n",
        "    A[i-1,i-1] = integral_value[0]\n",
        "\n",
        "for i in range(1,N+1):\n",
        "    integral_value = integrate.quad(lambda x: bilinear_form(phi(i,x),phi(i+1,x),deriv_phi(i,x),deriv_phi(i+1,x)), 0, 1)\n",
        "    A[i-1,i] = integral_value[0]\n",
        "\n",
        "for i in range(1,N+1):\n",
        "    integral_value = integrate.quad(lambda x: bilinear_form(phi(i+1,x),phi(i,x),deriv_phi(i+1,x),deriv_phi(i,x)), 0, 1)\n",
        "    A[i,i-1] = integral_value[0]\n",
        "\n",
        "A"
      ],
      "metadata": {
        "colab": {
          "base_uri": "https://localhost:8080/"
        },
        "id": "4d9rMfbR6VfD",
        "outputId": "a7fa2399-7be6-42e7-8aa2-7e53eb323810"
      },
      "execution_count": null,
      "outputs": [
        {
          "output_type": "execute_result",
          "data": {
            "text/plain": [
              "array([[ 34.03921568, -16.99019608,   0.        ,   0.        ,\n",
              "          0.        ,   0.        ,   0.        ,   0.        ,\n",
              "          0.        ,   0.        ,   0.        ,   0.        ,\n",
              "          0.        ,   0.        ,   0.        ,   0.        ,\n",
              "          0.        ],\n",
              "       [-16.99019608,  34.03921567, -16.99019609,   0.        ,\n",
              "          0.        ,   0.        ,   0.        ,   0.        ,\n",
              "          0.        ,   0.        ,   0.        ,   0.        ,\n",
              "          0.        ,   0.        ,   0.        ,   0.        ,\n",
              "          0.        ],\n",
              "       [  0.        , -16.99019609,  34.03921573, -16.99019608,\n",
              "          0.        ,   0.        ,   0.        ,   0.        ,\n",
              "          0.        ,   0.        ,   0.        ,   0.        ,\n",
              "          0.        ,   0.        ,   0.        ,   0.        ,\n",
              "          0.        ],\n",
              "       [  0.        ,   0.        , -16.99019608,  34.0392156 ,\n",
              "        -16.99019608,   0.        ,   0.        ,   0.        ,\n",
              "          0.        ,   0.        ,   0.        ,   0.        ,\n",
              "          0.        ,   0.        ,   0.        ,   0.        ,\n",
              "          0.        ],\n",
              "       [  0.        ,   0.        ,   0.        , -16.99019608,\n",
              "         34.03921569, -16.99019608,   0.        ,   0.        ,\n",
              "          0.        ,   0.        ,   0.        ,   0.        ,\n",
              "          0.        ,   0.        ,   0.        ,   0.        ,\n",
              "          0.        ],\n",
              "       [  0.        ,   0.        ,   0.        ,   0.        ,\n",
              "        -16.99019608,  34.03921569,   0.        ,   0.        ,\n",
              "          0.        ,   0.        ,   0.        ,   0.        ,\n",
              "          0.        ,   0.        ,   0.        ,   0.        ,\n",
              "          0.        ],\n",
              "       [  0.        ,   0.        ,   0.        ,   0.        ,\n",
              "          0.        ,   0.        ,  34.03921569, -16.99019608,\n",
              "          0.        ,   0.        ,   0.        ,   0.        ,\n",
              "          0.        ,   0.        ,   0.        ,   0.        ,\n",
              "          0.        ],\n",
              "       [  0.        ,   0.        ,   0.        ,   0.        ,\n",
              "          0.        ,   0.        , -16.99019608,  34.03921563,\n",
              "        -16.99019608,   0.        ,   0.        ,   0.        ,\n",
              "          0.        ,   0.        ,   0.        ,   0.        ,\n",
              "          0.        ],\n",
              "       [  0.        ,   0.        ,   0.        ,   0.        ,\n",
              "          0.        ,   0.        ,   0.        , -16.99019608,\n",
              "         34.03921563, -16.99019608,   0.        ,   0.        ,\n",
              "          0.        ,   0.        ,   0.        ,   0.        ,\n",
              "          0.        ],\n",
              "       [  0.        ,   0.        ,   0.        ,   0.        ,\n",
              "          0.        ,   0.        ,   0.        ,   0.        ,\n",
              "        -16.99019608,  34.03921569,   0.        ,   0.        ,\n",
              "          0.        ,   0.        ,   0.        ,   0.        ,\n",
              "          0.        ],\n",
              "       [  0.        ,   0.        ,   0.        ,   0.        ,\n",
              "          0.        ,   0.        ,   0.        ,   0.        ,\n",
              "          0.        ,   0.        ,  34.03921569, -16.99019608,\n",
              "          0.        ,   0.        ,   0.        ,   0.        ,\n",
              "          0.        ],\n",
              "       [  0.        ,   0.        ,   0.        ,   0.        ,\n",
              "          0.        ,   0.        ,   0.        ,   0.        ,\n",
              "          0.        ,   0.        , -16.99019608,  34.03921569,\n",
              "        -16.99019608,   0.        ,   0.        ,   0.        ,\n",
              "          0.        ],\n",
              "       [  0.        ,   0.        ,   0.        ,   0.        ,\n",
              "          0.        ,   0.        ,   0.        ,   0.        ,\n",
              "          0.        ,   0.        ,   0.        , -16.99019608,\n",
              "         34.0392156 , -16.99019608,   0.        ,   0.        ,\n",
              "          0.        ],\n",
              "       [  0.        ,   0.        ,   0.        ,   0.        ,\n",
              "          0.        ,   0.        ,   0.        ,   0.        ,\n",
              "          0.        ,   0.        ,   0.        ,   0.        ,\n",
              "        -16.99019608,  34.03921573, -16.99019609,   0.        ,\n",
              "          0.        ],\n",
              "       [  0.        ,   0.        ,   0.        ,   0.        ,\n",
              "          0.        ,   0.        ,   0.        ,   0.        ,\n",
              "          0.        ,   0.        ,   0.        ,   0.        ,\n",
              "          0.        , -16.99019609,  34.03921567, -16.99019608,\n",
              "          0.        ],\n",
              "       [  0.        ,   0.        ,   0.        ,   0.        ,\n",
              "          0.        ,   0.        ,   0.        ,   0.        ,\n",
              "          0.        ,   0.        ,   0.        ,   0.        ,\n",
              "          0.        ,   0.        , -16.99019608,  34.03921568,\n",
              "        -16.99019608],\n",
              "       [  0.        ,   0.        ,   0.        ,   0.        ,\n",
              "          0.        ,   0.        ,   0.        ,   0.        ,\n",
              "          0.        ,   0.        ,   0.        ,   0.        ,\n",
              "          0.        ,   0.        ,   0.        , -16.99019608,\n",
              "         17.01960784]])"
            ]
          },
          "metadata": {},
          "execution_count": 177
        }
      ]
    },
    {
      "cell_type": "code",
      "source": [
        "def linear_functional(v):\n",
        "    return v\n",
        "\n",
        "f = np.empty(N+1)\n",
        "\n",
        "for i in range(1,N+2):\n",
        "    integral_value = integrate.quad(lambda x: linear_functional(phi(i,x)), 0, 1)\n",
        "    f[i-1] = integral_value[0]\n",
        "\n",
        "f"
      ],
      "metadata": {
        "colab": {
          "base_uri": "https://localhost:8080/"
        },
        "id": "VMEu3DWN4LnJ",
        "outputId": "c6310a43-4b6d-41f1-a118-dccc67aa07e4"
      },
      "execution_count": null,
      "outputs": [
        {
          "output_type": "execute_result",
          "data": {
            "text/plain": [
              "array([0.05882353, 0.05882353, 0.05882353, 0.05882353, 0.05882353,\n",
              "       0.05882353, 0.05882353, 0.05882353, 0.05882353, 0.05882353,\n",
              "       0.05882353, 0.05882353, 0.05882353, 0.05882353, 0.05882353,\n",
              "       0.05882353, 0.02941176])"
            ]
          },
          "metadata": {},
          "execution_count": 178
        }
      ]
    },
    {
      "cell_type": "code",
      "source": [
        "U = np.linalg.solve(A, f)\n",
        "U"
      ],
      "metadata": {
        "colab": {
          "base_uri": "https://localhost:8080/"
        },
        "id": "1JzptjDSH3dH",
        "outputId": "6740d116-a7fa-4ec9-947d-96c53da41431"
      },
      "execution_count": null,
      "outputs": [
        {
          "output_type": "execute_result",
          "data": {
            "text/plain": [
              "array([0.01022165, 0.01701649, 0.02040804, 0.02040804, 0.01701649,\n",
              "       0.01022165, 0.00686501, 0.01029158, 0.01029158, 0.00686501,\n",
              "       0.02122782, 0.03906694, 0.0535791 , 0.06481457, 0.07281223,\n",
              "       0.07759978, 0.07919379])"
            ]
          },
          "metadata": {},
          "execution_count": 179
        }
      ]
    },
    {
      "cell_type": "code",
      "source": [
        "def u_h(x):\n",
        "    approx = 0\n",
        "    for i in range(N+1):\n",
        "        approx += U[i]*phi(i+1,x)\n",
        "    return approx\n",
        "\n",
        "def u(x):\n",
        "    return 1 - (np.e**(2-x) + np.e**x)/(1 + np.e**2)\n",
        "\n",
        "xes = np.linspace(0,1,200)\n",
        "plt.plot(xes, [u_h(x) for x in xes], label = \"FE Solution\")\n",
        "plt.plot(xes, [u(x) for x in xes], label = \"Exact Solution\")\n",
        "plt.legend()"
      ],
      "metadata": {
        "colab": {
          "base_uri": "https://localhost:8080/",
          "height": 447
        },
        "id": "QqiRXlOqIUkg",
        "outputId": "3892e719-81fb-4a4d-d53a-bc5ce8b1deb0"
      },
      "execution_count": null,
      "outputs": [
        {
          "output_type": "execute_result",
          "data": {
            "text/plain": [
              "<matplotlib.legend.Legend at 0x78cdf4399e70>"
            ]
          },
          "metadata": {},
          "execution_count": 180
        },
        {
          "output_type": "display_data",
          "data": {
            "text/plain": [
              "<Figure size 640x480 with 1 Axes>"
            ],
            "image/png": "[encoded data removed]"
          },
          "metadata": {}
        }
      ]
    },
    {
      "cell_type": "code",
      "source": [],
      "metadata": {
        "id": "i81k-qctIgIv"
      },
      "execution_count": null,
      "outputs": []
    }
  ]
}